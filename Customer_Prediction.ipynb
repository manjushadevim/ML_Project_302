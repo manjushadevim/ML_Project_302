{
 "cells": [
  {
   "cell_type": "code",
   "execution_count": 72,
   "id": "a27cb906",
   "metadata": {},
   "outputs": [
    {
     "name": "stdout",
     "output_type": "stream",
     "text": [
      "Requirement already satisfied: xgboost in c:\\users\\asha deepthi\\anaconda3\\lib\\site-packages (1.4.2)\n",
      "Requirement already satisfied: numpy in c:\\users\\asha deepthi\\anaconda3\\lib\\site-packages (from xgboost) (1.20.1)\n",
      "Requirement already satisfied: scipy in c:\\users\\asha deepthi\\anaconda3\\lib\\site-packages (from xgboost) (1.6.2)\n"
     ]
    }
   ],
   "source": [
    "import pandas as pd\n",
    "import numpy as np\n",
    "import seaborn as sns\n",
    "import matplotlib.pyplot as plt\n",
    "from matplotlib import pyplot as plt\n",
    "from sklearn.preprocessing import RobustScaler, StandardScaler, MinMaxScaler, OneHotEncoder\n",
    "from sklearn.model_selection import cross_val_score, train_test_split, cross_val_predict\n",
    "from sklearn.ensemble import RandomForestClassifier\n",
    "from sklearn.metrics import roc_auc_score\n",
    "!pip install xgboost\n",
    "import xgboost as xgb\n",
    "from xgboost import XGBClassifier\n",
    "from sklearn.linear_model import LinearRegression"
   ]
  },
  {
   "cell_type": "code",
   "execution_count": 29,
   "id": "ee62dd91",
   "metadata": {
    "scrolled": true
   },
   "outputs": [
    {
     "data": {
      "text/html": [
       "<div>\n",
       "<style scoped>\n",
       "    .dataframe tbody tr th:only-of-type {\n",
       "        vertical-align: middle;\n",
       "    }\n",
       "\n",
       "    .dataframe tbody tr th {\n",
       "        vertical-align: top;\n",
       "    }\n",
       "\n",
       "    .dataframe thead th {\n",
       "        text-align: right;\n",
       "    }\n",
       "</style>\n",
       "<table border=\"1\" class=\"dataframe\">\n",
       "  <thead>\n",
       "    <tr style=\"text-align: right;\">\n",
       "      <th></th>\n",
       "      <th>Administrative</th>\n",
       "      <th>Administrative_Duration</th>\n",
       "      <th>Informational</th>\n",
       "      <th>Informational_Duration</th>\n",
       "      <th>ProductRelated</th>\n",
       "      <th>ProductRelated_Duration</th>\n",
       "      <th>BounceRates</th>\n",
       "      <th>ExitRates</th>\n",
       "      <th>PageValues</th>\n",
       "      <th>SpecialDay</th>\n",
       "      <th>Month</th>\n",
       "      <th>OperatingSystems</th>\n",
       "      <th>Browser</th>\n",
       "      <th>Region</th>\n",
       "      <th>TrafficType</th>\n",
       "      <th>VisitorType</th>\n",
       "      <th>Weekend</th>\n",
       "      <th>Revenue</th>\n",
       "    </tr>\n",
       "  </thead>\n",
       "  <tbody>\n",
       "    <tr>\n",
       "      <th>0</th>\n",
       "      <td>0</td>\n",
       "      <td>0.0</td>\n",
       "      <td>0</td>\n",
       "      <td>0.0</td>\n",
       "      <td>1</td>\n",
       "      <td>0.000000</td>\n",
       "      <td>0.20</td>\n",
       "      <td>0.20</td>\n",
       "      <td>0.0</td>\n",
       "      <td>0.0</td>\n",
       "      <td>Feb</td>\n",
       "      <td>1</td>\n",
       "      <td>1</td>\n",
       "      <td>1</td>\n",
       "      <td>1</td>\n",
       "      <td>Returning_Visitor</td>\n",
       "      <td>False</td>\n",
       "      <td>False</td>\n",
       "    </tr>\n",
       "    <tr>\n",
       "      <th>1</th>\n",
       "      <td>0</td>\n",
       "      <td>0.0</td>\n",
       "      <td>0</td>\n",
       "      <td>0.0</td>\n",
       "      <td>2</td>\n",
       "      <td>64.000000</td>\n",
       "      <td>0.00</td>\n",
       "      <td>0.10</td>\n",
       "      <td>0.0</td>\n",
       "      <td>0.0</td>\n",
       "      <td>Feb</td>\n",
       "      <td>2</td>\n",
       "      <td>2</td>\n",
       "      <td>1</td>\n",
       "      <td>2</td>\n",
       "      <td>Returning_Visitor</td>\n",
       "      <td>False</td>\n",
       "      <td>False</td>\n",
       "    </tr>\n",
       "    <tr>\n",
       "      <th>2</th>\n",
       "      <td>0</td>\n",
       "      <td>0.0</td>\n",
       "      <td>0</td>\n",
       "      <td>0.0</td>\n",
       "      <td>1</td>\n",
       "      <td>0.000000</td>\n",
       "      <td>0.20</td>\n",
       "      <td>0.20</td>\n",
       "      <td>0.0</td>\n",
       "      <td>0.0</td>\n",
       "      <td>Feb</td>\n",
       "      <td>4</td>\n",
       "      <td>1</td>\n",
       "      <td>9</td>\n",
       "      <td>3</td>\n",
       "      <td>Returning_Visitor</td>\n",
       "      <td>False</td>\n",
       "      <td>False</td>\n",
       "    </tr>\n",
       "    <tr>\n",
       "      <th>3</th>\n",
       "      <td>0</td>\n",
       "      <td>0.0</td>\n",
       "      <td>0</td>\n",
       "      <td>0.0</td>\n",
       "      <td>2</td>\n",
       "      <td>2.666667</td>\n",
       "      <td>0.05</td>\n",
       "      <td>0.14</td>\n",
       "      <td>0.0</td>\n",
       "      <td>0.0</td>\n",
       "      <td>Feb</td>\n",
       "      <td>3</td>\n",
       "      <td>2</td>\n",
       "      <td>2</td>\n",
       "      <td>4</td>\n",
       "      <td>Returning_Visitor</td>\n",
       "      <td>False</td>\n",
       "      <td>False</td>\n",
       "    </tr>\n",
       "    <tr>\n",
       "      <th>4</th>\n",
       "      <td>0</td>\n",
       "      <td>0.0</td>\n",
       "      <td>0</td>\n",
       "      <td>0.0</td>\n",
       "      <td>10</td>\n",
       "      <td>627.500000</td>\n",
       "      <td>0.02</td>\n",
       "      <td>0.05</td>\n",
       "      <td>0.0</td>\n",
       "      <td>0.0</td>\n",
       "      <td>Feb</td>\n",
       "      <td>3</td>\n",
       "      <td>3</td>\n",
       "      <td>1</td>\n",
       "      <td>4</td>\n",
       "      <td>Returning_Visitor</td>\n",
       "      <td>True</td>\n",
       "      <td>False</td>\n",
       "    </tr>\n",
       "  </tbody>\n",
       "</table>\n",
       "</div>"
      ],
      "text/plain": [
       "   Administrative  Administrative_Duration  Informational  \\\n",
       "0               0                      0.0              0   \n",
       "1               0                      0.0              0   \n",
       "2               0                      0.0              0   \n",
       "3               0                      0.0              0   \n",
       "4               0                      0.0              0   \n",
       "\n",
       "   Informational_Duration  ProductRelated  ProductRelated_Duration  \\\n",
       "0                     0.0               1                 0.000000   \n",
       "1                     0.0               2                64.000000   \n",
       "2                     0.0               1                 0.000000   \n",
       "3                     0.0               2                 2.666667   \n",
       "4                     0.0              10               627.500000   \n",
       "\n",
       "   BounceRates  ExitRates  PageValues  SpecialDay Month  OperatingSystems  \\\n",
       "0         0.20       0.20         0.0         0.0   Feb                 1   \n",
       "1         0.00       0.10         0.0         0.0   Feb                 2   \n",
       "2         0.20       0.20         0.0         0.0   Feb                 4   \n",
       "3         0.05       0.14         0.0         0.0   Feb                 3   \n",
       "4         0.02       0.05         0.0         0.0   Feb                 3   \n",
       "\n",
       "   Browser  Region  TrafficType        VisitorType  Weekend  Revenue  \n",
       "0        1       1            1  Returning_Visitor    False    False  \n",
       "1        2       1            2  Returning_Visitor    False    False  \n",
       "2        1       9            3  Returning_Visitor    False    False  \n",
       "3        2       2            4  Returning_Visitor    False    False  \n",
       "4        3       1            4  Returning_Visitor     True    False  "
      ]
     },
     "execution_count": 29,
     "metadata": {},
     "output_type": "execute_result"
    }
   ],
   "source": [
    "X_train = pd.read_csv('ShoppingData.csv')\n",
    "df = X_train.copy()\n",
    "df.head()"
   ]
  },
  {
   "cell_type": "code",
   "execution_count": 31,
   "id": "13d2f6f5",
   "metadata": {},
   "outputs": [
    {
     "data": {
      "text/plain": [
       "Text(0, 0.5, 'Frequency')"
      ]
     },
     "execution_count": 31,
     "metadata": {},
     "output_type": "execute_result"
    },
    {
     "data": {
      "image/png": "[encoded data removed]",
      "text/plain": [
       "<Figure size 432x288 with 1 Axes>"
      ]
     },
     "metadata": {
      "needs_background": "light"
     },
     "output_type": "display_data"
    }
   ],
   "source": [
    "fig, ax = plt.subplots() \n",
    "data = X_train['Revenue'].value_counts() \n",
    "points = data.index \n",
    "frequency = data.values \n",
    "ax.bar(points, frequency) \n",
    "ax.set_title('Customer Activity') \n",
    "ax.set_xlabel('Customers who purchased and who didnt') \n",
    "ax.set_ylabel('Frequency')"
   ]
  },
  {
   "cell_type": "code",
   "execution_count": 32,
   "id": "dc39555e",
   "metadata": {},
   "outputs": [
    {
     "data": {
      "text/plain": [
       "pandas.core.frame.DataFrame"
      ]
     },
     "execution_count": 32,
     "metadata": {},
     "output_type": "execute_result"
    }
   ],
   "source": [
    "type(X_train)"
   ]
  },
  {
   "cell_type": "code",
   "execution_count": 45,
   "id": "9cdf4d74",
   "metadata": {},
   "outputs": [
    {
     "data": {
      "text/plain": [
       "Text(0, 0.5, 'Frequency')"
      ]
     },
     "execution_count": 45,
     "metadata": {},
     "output_type": "execute_result"
    },
    {
     "data": {
      "image/png": "[encoded data removed]",
      "text/plain": [
       "<Figure size 432x288 with 1 Axes>"
      ]
     },
     "metadata": {
      "needs_background": "light"
     },
     "output_type": "display_data"
    }
   ],
   "source": [
    "fig, ax = plt.subplots() \n",
    "data = X_train['VisitorType'].value_counts()\n",
    "points = data.index \n",
    "frequency = data.values\n",
    "ax.plot(points, frequency)\n",
    "ax.set_title('Customer Activity over months') \n",
    "ax.set_xlabel('Months') \n",
    "ax.set_ylabel('Frequency')"
   ]
  },
  {
   "cell_type": "code",
   "execution_count": 74,
   "id": "0e0f24d7",
   "metadata": {},
   "outputs": [],
   "source": [
    "dummiesdf = pd.get_dummies(df['VisitorType'])\n",
    "df.drop('VisitorType', inplace = True, axis = 1)\n",
    "df['New_Visitor'] = dummiesdf['New_Visitor']\n",
    "df['Other'] = dummiesdf['Other']\n",
    "df['Returning_Visitor'] = dummiesdf['Returning_Visitor']"
   ]
  },
  {
   "cell_type": "code",
   "execution_count": 75,
   "id": "37289275",
   "metadata": {},
   "outputs": [],
   "source": [
    "dfmonth = pd.get_dummies(df['Month']) \n",
    "df.drop('Month', inplace = True, axis = 1)\n",
    "dfwithdummies = pd.concat([df, dfmonth], axis = 1, sort = False)"
   ]
  },
  {
   "cell_type": "code",
   "execution_count": 76,
   "id": "9e941c2a",
   "metadata": {},
   "outputs": [],
   "source": [
    "dfwithdummies['Class'] = df['Revenue'].astype(int)\n",
    "dfwithdummies.drop('Revenue', axis = 1, inplace = True)\n",
    "dfwithdummies['Weekend'] = df['Weekend'].astype(int)\n",
    "dfwithdummies.drop('Returning_Visitor', axis = 1, inplace = True)\n",
    "dfcleaned = dfwithdummies.copy()"
   ]
  },
  {
   "cell_type": "code",
   "execution_count": 77,
   "id": "b68145c9",
   "metadata": {},
   "outputs": [],
   "source": [
    "X = dfcleaned.drop('Class', axis = 1)\n",
    "Y = dfcleaned['Class'].copy()"
   ]
  },
  {
   "cell_type": "code",
   "execution_count": 78,
   "id": "93ea58da",
   "metadata": {},
   "outputs": [],
   "source": [
    "cor = X.corr()"
   ]
  },
  {
   "cell_type": "code",
   "execution_count": 79,
   "id": "dbd99c2d",
   "metadata": {},
   "outputs": [
    {
     "data": {
      "text/plain": [
       "<AxesSubplot:>"
      ]
     },
     "execution_count": 79,
     "metadata": {},
     "output_type": "execute_result"
    },
    {
     "data": {
      "image/png": "[encoded data removed]",
      "text/plain": [
       "<Figure size 432x288 with 2 Axes>"
      ]
     },
     "metadata": {
      "needs_background": "light"
     },
     "output_type": "display_data"
    }
   ],
   "source": [
    "sns.heatmap(cor, xticklabels=cor.columns,yticklabels=cor.columns)"
   ]
  },
  {
   "cell_type": "code",
   "execution_count": 80,
   "id": "5b13bbd2",
   "metadata": {},
   "outputs": [],
   "source": [
    "def AvgMinutes(Count, Duration):\n",
    "    if Duration == 0:\n",
    "        output = 0\n",
    "    elif Duration != 0:\n",
    "        output = float(Duration)/float(Count)\n",
    "    return output\n",
    "    \n",
    "Columns = [['Administrative', 'Administrative_Duration'], ['Informational', 'Informational_Duration'], ['ProductRelated', 'ProductRelated_Duration']]\n",
    "    \n",
    "    \n",
    "X['AvgAdministrative'] = X.apply(lambda x: AvgMinutes(Count = x['Administrative'], Duration = x['Administrative_Duration']), axis = 1)\n",
    "X['AvgInformational'] = X.apply(lambda x: AvgMinutes(Count = x['Informational'], Duration = x['Informational_Duration']), axis = 1)\n",
    "X['AvgProductRelated'] = X.apply(lambda x: AvgMinutes(Count = x['ProductRelated'], Duration = x['ProductRelated_Duration']), axis = 1)\n",
    "X.drop(['Administrative', 'Administrative_Duration','Informational', 'Informational_Duration','ProductRelated', 'ProductRelated_Duration'], axis = 1, inplace = True)"
   ]
  },
  {
   "cell_type": "code",
   "execution_count": 81,
   "id": "d66a09f8",
   "metadata": {},
   "outputs": [
    {
     "data": {
      "text/plain": [
       "<AxesSubplot:>"
      ]
     },
     "execution_count": 81,
     "metadata": {},
     "output_type": "execute_result"
    },
    {
     "data": {
      "image/png": "[encoded data removed]",
      "text/plain": [
       "<Figure size 432x288 with 2 Axes>"
      ]
     },
     "metadata": {
      "needs_background": "light"
     },
     "output_type": "display_data"
    }
   ],
   "source": [
    "cor = X.corr()\n",
    "sns.heatmap(cor, xticklabels=cor.columns,yticklabels=cor.columns)"
   ]
  },
  {
   "cell_type": "code",
   "execution_count": 82,
   "id": "864cbd9d",
   "metadata": {},
   "outputs": [
    {
     "name": "stdout",
     "output_type": "stream",
     "text": [
      "Feature: BounceRates\n",
      "# of N/A: 0\n",
      "Feature: ExitRates\n",
      "# of N/A: 0\n",
      "Feature: PageValues\n",
      "# of N/A: 0\n",
      "Feature: SpecialDay\n",
      "# of N/A: 0\n",
      "Feature: OperatingSystems\n",
      "# of N/A: 0\n",
      "Feature: Browser\n",
      "# of N/A: 0\n",
      "Feature: Region\n",
      "# of N/A: 0\n",
      "Feature: TrafficType\n",
      "# of N/A: 0\n",
      "Feature: Weekend\n",
      "# of N/A: 0\n",
      "Feature: New_Visitor\n",
      "# of N/A: 0\n",
      "Feature: Other\n",
      "# of N/A: 0\n",
      "Feature: Aug\n",
      "# of N/A: 0\n",
      "Feature: Dec\n",
      "# of N/A: 0\n",
      "Feature: Feb\n",
      "# of N/A: 0\n",
      "Feature: Jul\n",
      "# of N/A: 0\n",
      "Feature: June\n",
      "# of N/A: 0\n",
      "Feature: Mar\n",
      "# of N/A: 0\n",
      "Feature: May\n",
      "# of N/A: 0\n",
      "Feature: Nov\n",
      "# of N/A: 0\n",
      "Feature: Oct\n",
      "# of N/A: 0\n",
      "Feature: Sep\n",
      "# of N/A: 0\n",
      "Feature: AvgAdministrative\n",
      "# of N/A: 0\n",
      "Feature: AvgInformational\n",
      "# of N/A: 0\n",
      "Feature: AvgProductRelated\n",
      "# of N/A: 0\n"
     ]
    }
   ],
   "source": [
    "for i in X.columns:\n",
    "    print('Feature:',i)\n",
    "    print('# of N/A:',X[i].isna().sum())"
   ]
  },
  {
   "cell_type": "code",
   "execution_count": 83,
   "id": "136c6f5e",
   "metadata": {},
   "outputs": [
    {
     "name": "stdout",
     "output_type": "stream",
     "text": [
      "####################\n",
      "COLUMN TITLE: Administrative\n",
      "# UNIQUE VALUES: 27\n",
      "UNIQUE VALUES: [ 0  1  2  4 12  3 10  6  5  9  8 16 13 11  7 18 14 17 19 15 24 22 21 20\n",
      " 23 27 26]\n",
      "####################\n",
      "\n",
      "####################\n",
      "COLUMN TITLE: Administrative_Duration\n",
      "# UNIQUE VALUES: 3335\n",
      "UNIQUE VALUES: [  0.         53.         64.6       ... 167.9107143 305.125\n",
      " 150.3571429]\n",
      "####################\n",
      "\n",
      "####################\n",
      "COLUMN TITLE: Informational\n",
      "# UNIQUE VALUES: 17\n",
      "UNIQUE VALUES: [ 0  1  2  4 16  5  3 14  6 12  7  9 10  8 11 24 13]\n",
      "####################\n",
      "\n",
      "####################\n",
      "COLUMN TITLE: Informational_Duration\n",
      "# UNIQUE VALUES: 1258\n",
      "UNIQUE VALUES: [  0.   120.    16.   ... 547.75 368.25 211.25]\n",
      "####################\n",
      "\n",
      "####################\n",
      "COLUMN TITLE: ProductRelated\n",
      "# UNIQUE VALUES: 311\n",
      "UNIQUE VALUES: [  1   2  10  19   0   3  16   7   6  23  13  20   8   5  32   4  45  14\n",
      "  52   9  46  15  22  11  12  36  42  27  90  18  38  17 128  25  30  21\n",
      "  51  26  28  31  24  50  96  49  68  98  67  55  35  37  29  34  71  63\n",
      "  87  40  33  54  64  75  39 111  81  61  47  44  88 149  41  79  66  43\n",
      " 258  80  62  83 173  48  58  57  56  69  82  59 109 287  53  84  78 137\n",
      " 113  89  65  60 104 129  77  74  93  76  72 194 140 110 132 115  73 328\n",
      " 160  86 150  95 130 151 117 124 127 125 116 105  92 157 154 220 187 112\n",
      " 131 159  94 204 142 206 102 313 145  85  97 198 181 126 106 101 108 119\n",
      "  70 122  91 276 100 291 114 172 217 141 133 156 136 180 135 195  99 362\n",
      " 179 118 175 148 440 103 178 184 705 134 176 146 189 120 193 222 121 107\n",
      " 305 199 439 223 230 280 377 310 158 486 153 139 182 221 229 216 170 202\n",
      " 346 274 240 162 123 211 227 168 161 429 686 167 518 256 255 358 213 191\n",
      " 282 155 138 246 237 271 171 414 219 262 409 243 241 197 449 143 188 391\n",
      " 238 152 165 293 174 584 164 311 340 250 200 385 292 232 251 517 225 169\n",
      " 309 235 501 224 275 318 144 397 343 245 186 337 351 166 349 423 359 163\n",
      " 147 264 312 226 324 266 260 338 272 534 470 207 218 326 190 304 205 233\n",
      " 401 177 330 286 247 357 315 231 339 283 374 248 279 281 234 261 290 336\n",
      " 378 254 183 210 192]\n",
      "####################\n",
      "\n",
      "####################\n",
      "COLUMN TITLE: ProductRelated_Duration\n",
      "# UNIQUE VALUES: 9551\n",
      "UNIQUE VALUES: [  0.          64.           2.66666667 ... 465.75       184.25\n",
      " 346.        ]\n",
      "####################\n",
      "\n",
      "####################\n",
      "COLUMN TITLE: BounceRates\n",
      "# UNIQUE VALUES: 1872\n",
      "UNIQUE VALUES: [0.2        0.         0.05       ... 0.00382775 0.00086956 0.01114899]\n",
      "####################\n",
      "\n",
      "####################\n",
      "COLUMN TITLE: ExitRates\n",
      "# UNIQUE VALUES: 4777\n",
      "UNIQUE VALUES: [0.2        0.1        0.14       ... 0.01276133 0.01395349 0.02903061]\n",
      "####################\n",
      "\n",
      "####################\n",
      "COLUMN TITLE: PageValues\n",
      "# UNIQUE VALUES: 2704\n",
      "UNIQUE VALUES: [ 0.         54.17976426 19.44707913 ... 78.81172527  3.68540082\n",
      " 12.24171745]\n",
      "####################\n",
      "\n",
      "####################\n",
      "COLUMN TITLE: SpecialDay\n",
      "# UNIQUE VALUES: 6\n",
      "UNIQUE VALUES: [0.  0.4 0.8 1.  0.2 0.6]\n",
      "####################\n",
      "\n",
      "####################\n",
      "COLUMN TITLE: Month\n",
      "# UNIQUE VALUES: 10\n",
      "UNIQUE VALUES: ['Feb' 'Mar' 'May' 'Oct' 'June' 'Jul' 'Aug' 'Nov' 'Sep' 'Dec']\n",
      "####################\n",
      "\n",
      "####################\n",
      "COLUMN TITLE: OperatingSystems\n",
      "# UNIQUE VALUES: 8\n",
      "UNIQUE VALUES: [1 2 4 3 7 6 8 5]\n",
      "####################\n",
      "\n",
      "####################\n",
      "COLUMN TITLE: Browser\n",
      "# UNIQUE VALUES: 13\n",
      "UNIQUE VALUES: [ 1  2  3  4  5  6  7 10  8  9 12 13 11]\n",
      "####################\n",
      "\n",
      "####################\n",
      "COLUMN TITLE: Region\n",
      "# UNIQUE VALUES: 9\n",
      "UNIQUE VALUES: [1 9 2 3 4 5 6 7 8]\n",
      "####################\n",
      "\n",
      "####################\n",
      "COLUMN TITLE: TrafficType\n",
      "# UNIQUE VALUES: 20\n",
      "UNIQUE VALUES: [ 1  2  3  4  5  6  7  8  9 10 11 12 13 14 15 18 19 16 17 20]\n",
      "####################\n",
      "\n",
      "####################\n",
      "COLUMN TITLE: VisitorType\n",
      "# UNIQUE VALUES: 3\n",
      "UNIQUE VALUES: ['Returning_Visitor' 'New_Visitor' 'Other']\n",
      "####################\n",
      "\n",
      "####################\n",
      "COLUMN TITLE: Weekend\n",
      "# UNIQUE VALUES: 2\n",
      "UNIQUE VALUES: [False  True]\n",
      "####################\n",
      "\n",
      "####################\n",
      "COLUMN TITLE: Revenue\n",
      "# UNIQUE VALUES: 2\n",
      "UNIQUE VALUES: [False  True]\n",
      "####################\n",
      "\n"
     ]
    }
   ],
   "source": [
    "for i in X_train.columns:\n",
    "    print('####################')\n",
    "    print('COLUMN TITLE:',i)\n",
    "    print('# UNIQUE VALUES:',len(X_train[i].unique()))\n",
    "    print('UNIQUE VALUES:',X_train[i].unique())\n",
    "    print('####################')\n",
    "    print()"
   ]
  },
  {
   "cell_type": "code",
   "execution_count": 85,
   "id": "7640f928",
   "metadata": {},
   "outputs": [],
   "source": [
    "X_copy = X.copy()\n",
    "rc = RobustScaler()\n",
    "X_rc=rc.fit_transform(X_copy)\n",
    "X_rc=pd.DataFrame(X_rc,columns=X.columns)\n"
   ]
  },
  {
   "cell_type": "code",
   "execution_count": 103,
   "id": "fabe4373",
   "metadata": {},
   "outputs": [],
   "source": [
    "new_df = df[df['ProductRelated']== 3]"
   ]
  },
  {
   "cell_type": "code",
   "execution_count": 112,
   "id": "248db3e8",
   "metadata": {},
   "outputs": [
    {
     "data": {
      "text/html": [
       "<div>\n",
       "<style scoped>\n",
       "    .dataframe tbody tr th:only-of-type {\n",
       "        vertical-align: middle;\n",
       "    }\n",
       "\n",
       "    .dataframe tbody tr th {\n",
       "        vertical-align: top;\n",
       "    }\n",
       "\n",
       "    .dataframe thead th {\n",
       "        text-align: right;\n",
       "    }\n",
       "</style>\n",
       "<table border=\"1\" class=\"dataframe\">\n",
       "  <thead>\n",
       "    <tr style=\"text-align: right;\">\n",
       "      <th></th>\n",
       "      <th>ProductRelated_Duration</th>\n",
       "      <th>Revenue</th>\n",
       "    </tr>\n",
       "  </thead>\n",
       "  <tbody>\n",
       "    <tr>\n",
       "      <th>9</th>\n",
       "      <td>738.00</td>\n",
       "      <td>False</td>\n",
       "    </tr>\n",
       "    <tr>\n",
       "      <th>10</th>\n",
       "      <td>395.00</td>\n",
       "      <td>False</td>\n",
       "    </tr>\n",
       "    <tr>\n",
       "      <th>22</th>\n",
       "      <td>105.00</td>\n",
       "      <td>False</td>\n",
       "    </tr>\n",
       "    <tr>\n",
       "      <th>31</th>\n",
       "      <td>78.00</td>\n",
       "      <td>False</td>\n",
       "    </tr>\n",
       "    <tr>\n",
       "      <th>41</th>\n",
       "      <td>22.00</td>\n",
       "      <td>False</td>\n",
       "    </tr>\n",
       "    <tr>\n",
       "      <th>...</th>\n",
       "      <td>...</td>\n",
       "      <td>...</td>\n",
       "    </tr>\n",
       "    <tr>\n",
       "      <th>12253</th>\n",
       "      <td>178.25</td>\n",
       "      <td>False</td>\n",
       "    </tr>\n",
       "    <tr>\n",
       "      <th>12289</th>\n",
       "      <td>88.50</td>\n",
       "      <td>False</td>\n",
       "    </tr>\n",
       "    <tr>\n",
       "      <th>12291</th>\n",
       "      <td>35.00</td>\n",
       "      <td>False</td>\n",
       "    </tr>\n",
       "    <tr>\n",
       "      <th>12303</th>\n",
       "      <td>172.00</td>\n",
       "      <td>False</td>\n",
       "    </tr>\n",
       "    <tr>\n",
       "      <th>12329</th>\n",
       "      <td>21.25</td>\n",
       "      <td>False</td>\n",
       "    </tr>\n",
       "  </tbody>\n",
       "</table>\n",
       "<p>458 rows × 2 columns</p>\n",
       "</div>"
      ],
      "text/plain": [
       "       ProductRelated_Duration  Revenue\n",
       "9                       738.00    False\n",
       "10                      395.00    False\n",
       "22                      105.00    False\n",
       "31                       78.00    False\n",
       "41                       22.00    False\n",
       "...                        ...      ...\n",
       "12253                   178.25    False\n",
       "12289                    88.50    False\n",
       "12291                    35.00    False\n",
       "12303                   172.00    False\n",
       "12329                    21.25    False\n",
       "\n",
       "[458 rows x 2 columns]"
      ]
     },
     "execution_count": 112,
     "metadata": {},
     "output_type": "execute_result"
    }
   ],
   "source": [
    "new_df = new_df[['ProductRelated_Duration','Revenue']] \n",
    "new_df"
   ]
  },
  {
   "cell_type": "code",
   "execution_count": 105,
   "id": "b9dc8218",
   "metadata": {},
   "outputs": [],
   "source": [
    "X = np.array(new_df[['ProductRelated_Duration']]) \n",
    "y = np.array(new_df[['Revenue']])"
   ]
  },
  {
   "cell_type": "code",
   "execution_count": 106,
   "id": "3ec72508",
   "metadata": {},
   "outputs": [
    {
     "name": "stdout",
     "output_type": "stream",
     "text": [
      "(458, 1)\n",
      "(458, 1)\n"
     ]
    }
   ],
   "source": [
    "print(X.shape) \n",
    "print(y.shape)"
   ]
  },
  {
   "cell_type": "code",
   "execution_count": 107,
   "id": "532ddf05",
   "metadata": {},
   "outputs": [
    {
     "data": {
      "image/png": "[encoded data removed]",
      "text/plain": [
       "<Figure size 432x288 with 1 Axes>"
      ]
     },
     "metadata": {
      "needs_background": "light"
     },
     "output_type": "display_data"
    }
   ],
   "source": [
    "plt.scatter(X,y,color=\"red\") \n",
    "plt.title('ProductDuration Vs Revenue')\n",
    "plt.xlabel('ProductRelated_Duration')\n",
    "plt.ylabel('Revenue')\n",
    "plt.show()"
   ]
  },
  {
   "cell_type": "code",
   "execution_count": 108,
   "id": "63631d02",
   "metadata": {},
   "outputs": [
    {
     "data": {
      "text/plain": [
       "LinearRegression()"
      ]
     },
     "execution_count": 108,
     "metadata": {},
     "output_type": "execute_result"
    }
   ],
   "source": [
    "X_train,X_test,y_train,y_test = train_test_split(X,y,test_size = 0.25,random_state=15)\n",
    "regressor = LinearRegression()\n",
    "regressor.fit(X_train,y_train) "
   ]
  },
  {
   "cell_type": "code",
   "execution_count": 109,
   "id": "b271f9b2",
   "metadata": {},
   "outputs": [
    {
     "data": {
      "image/png": "[encoded data removed]",
      "text/plain": [
       "<Figure size 432x288 with 1 Axes>"
      ]
     },
     "metadata": {
      "needs_background": "light"
     },
     "output_type": "display_data"
    }
   ],
   "source": [
    "plt.scatter(X_test,y_test,color=\"green\") \n",
    "plt.plot(X_train,regressor.predict(X_train),color=\"red\",linewidth=3) \n",
    "plt.title('Regression(Test Set)')\n",
    "plt.xlabel('Product')\n",
    "plt.ylabel('Revenue')\n",
    "plt.show()"
   ]
  },
  {
   "cell_type": "code",
   "execution_count": 110,
   "id": "2f68b190",
   "metadata": {},
   "outputs": [
    {
     "data": {
      "image/png": "[encoded data removed]",
      "text/plain": [
       "<Figure size 432x288 with 1 Axes>"
      ]
     },
     "metadata": {
      "needs_background": "light"
     },
     "output_type": "display_data"
    }
   ],
   "source": [
    "plt.scatter(X_train,y_train,color=\"blue\")  \n",
    "plt.plot(X_train,regressor.predict(X_train),color=\"red\",linewidth=3) \n",
    "plt.title('Regression(training Set)')\n",
    "plt.xlabel('Product')\n",
    "plt.ylabel('Revenue')\n",
    "plt.show()"
   ]
  },
  {
   "cell_type": "code",
   "execution_count": null,
   "id": "66ca28d3",
   "metadata": {},
   "outputs": [],
   "source": []
  }
 ],
 "metadata": {
  "kernelspec": {
   "display_name": "Python 3",
   "language": "python",
   "name": "python3"
  },
  "language_info": {
   "codemirror_mode": {
    "name": "ipython",
    "version": 3
   },
   "file_extension": ".py",
   "mimetype": "text/x-python",
   "name": "python",
   "nbconvert_exporter": "python",
   "pygments_lexer": "ipython3",
   "version": "3.8.8"
  }
 },
 "nbformat": 4,
 "nbformat_minor": 5
}
